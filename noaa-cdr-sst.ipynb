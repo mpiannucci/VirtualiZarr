{
 "cells": [
  {
   "cell_type": "code",
   "execution_count": null,
   "id": "d09bbff3-4e96-4490-b837-14b78b64df35",
   "metadata": {},
   "outputs": [],
   "source": [
    "# !pip install -e \".[icechunk]\"\n",
    "# !pip install git+https://github.com/mpiannucci/kerchunk@v3\n",
    "# !pip install fsspec s3fs"
   ]
  },
  {
   "cell_type": "code",
   "execution_count": 1,
   "id": "3055eff4-9e22-4a95-a7fd-96933f381183",
   "metadata": {},
   "outputs": [
    {
     "name": "stdout",
     "output_type": "stream",
     "text": [
      "Name: icechunk\n",
      "Version: 0.1.0a7\n",
      "Summary: Transactional storage engine for Zarr designed for use on cloud object storage\n",
      "Home-page: https://github.com/earth-mover/icechunk\n",
      "Author: Earthmover PBC\n",
      "Author-email: \n",
      "License: Apache-2.0\n",
      "Location: /Users/aimeebarciauskas/github/virtualizarr/venv/lib/python3.12/site-packages\n",
      "Requires: zarr\n",
      "Required-by: \n"
     ]
    }
   ],
   "source": [
    "!pip show icechunk"
   ]
  },
  {
   "cell_type": "code",
   "execution_count": 2,
   "id": "2f69f0bb-316b-452c-b1ba-4d7ef4afcf67",
   "metadata": {},
   "outputs": [],
   "source": [
    "import warnings\n",
    "\n",
    "import fsspec\n",
    "import xarray as xr\n",
    "from icechunk import IcechunkStore, StorageConfig, StoreConfig, VirtualRefConfig\n",
    "\n",
    "from virtualizarr import open_virtual_dataset\n",
    "\n",
    "warnings.filterwarnings(\"ignore\", category=UserWarning)"
   ]
  },
  {
   "cell_type": "code",
   "execution_count": 3,
   "id": "1532c33b-804f-49fa-9fa9-0eb42ea87e26",
   "metadata": {},
   "outputs": [],
   "source": [
    "fs = fsspec.filesystem(\"s3\", anon=True)\n",
    "\n",
    "oisst_files = fs.glob(\n",
    "    \"s3://noaa-cdr-sea-surface-temp-optimum-interpolation-pds/data/v2.1/avhrr/202408/oisst-avhrr-v02r01.*.nc\"\n",
    ")\n",
    "\n",
    "oisst_files = sorted([\"s3://\" + f for f in oisst_files])"
   ]
  },
  {
   "cell_type": "code",
   "execution_count": 4,
   "id": "06bbec92-3974-4859-8bda-353afc7800b9",
   "metadata": {},
   "outputs": [],
   "source": [
    "so = dict(anon=True, default_fill_cache=False, default_cache_type=\"none\")\n",
    "\n",
    "virtual_datasets = [\n",
    "    open_virtual_dataset(url, indexes={}, reader_options={\"storage_options\": so})\n",
    "    for url in oisst_files[0:2]\n",
    "]"
   ]
  },
  {
   "cell_type": "code",
   "execution_count": 5,
   "id": "77fb94c8-870f-4c9e-8421-ac9c17402122",
   "metadata": {},
   "outputs": [],
   "source": [
    "virtual_ds = xr.concat(\n",
    "    virtual_datasets,\n",
    "    dim=\"time\",\n",
    "    coords=\"minimal\",\n",
    "    compat=\"override\",\n",
    "    combine_attrs=\"override\",\n",
    ")"
   ]
  },
  {
   "cell_type": "code",
   "execution_count": 18,
   "id": "abefd6fa-386a-4e07-a7c8-219d3730eeeb",
   "metadata": {},
   "outputs": [],
   "source": [
    "!rm -rf ./noaa-cdr-icechunk/"
   ]
  },
  {
   "cell_type": "code",
   "execution_count": 19,
   "id": "79a4228a-0e17-4b07-9144-f24fe06db832",
   "metadata": {},
   "outputs": [],
   "source": [
    "storage_config = StorageConfig.filesystem(\"./noaa-cdr-icechunk\")\n",
    "virtual_ref_store_config = StoreConfig(\n",
    "    virtual_ref_config=VirtualRefConfig.s3_anonymous(region=\"us-east-1\"),\n",
    ")"
   ]
  },
  {
   "cell_type": "code",
   "execution_count": 20,
   "id": "5fd0c082-8d5e-46a8-a994-fee80baa4ecc",
   "metadata": {},
   "outputs": [],
   "source": [
    "store = await IcechunkStore.create(\n",
    "    storage=storage_config, config=virtual_ref_store_config, read_only=False\n",
    ")"
   ]
  },
  {
   "cell_type": "code",
   "execution_count": 21,
   "id": "55ebbc5f-add2-4de8-81f6-5aaf64d9e2b6",
   "metadata": {},
   "outputs": [
    {
     "name": "stderr",
     "output_type": "stream",
     "text": [
      "/Users/aimeebarciauskas/github/virtualizarr/virtualizarr/writers/icechunk.py:272: RuntimeWarning: coroutine 'IcechunkStore.set_virtual_ref' was never awaited\n",
      "  store.set_virtual_ref(\n",
      "RuntimeWarning: Enable tracemalloc to get the object allocation traceback\n",
      "/Users/aimeebarciauskas/github/virtualizarr/virtualizarr/writers/icechunk.py:272: RuntimeWarning: coroutine 'IcechunkStore.set_virtual_ref' was never awaited\n",
      "  store.set_virtual_ref(\n",
      "RuntimeWarning: Enable tracemalloc to get the object allocation traceback\n",
      "/Users/aimeebarciauskas/github/virtualizarr/virtualizarr/writers/icechunk.py:272: RuntimeWarning: coroutine 'IcechunkStore.set_virtual_ref' was never awaited\n",
      "  store.set_virtual_ref(\n",
      "RuntimeWarning: Enable tracemalloc to get the object allocation traceback\n",
      "/Users/aimeebarciauskas/github/virtualizarr/virtualizarr/writers/icechunk.py:272: RuntimeWarning: coroutine 'IcechunkStore.set_virtual_ref' was never awaited\n",
      "  store.set_virtual_ref(\n",
      "RuntimeWarning: Enable tracemalloc to get the object allocation traceback\n",
      "/Users/aimeebarciauskas/github/virtualizarr/virtualizarr/writers/icechunk.py:272: RuntimeWarning: coroutine 'IcechunkStore.set_virtual_ref' was never awaited\n",
      "  store.set_virtual_ref(\n",
      "RuntimeWarning: Enable tracemalloc to get the object allocation traceback\n",
      "/Users/aimeebarciauskas/github/virtualizarr/virtualizarr/writers/icechunk.py:272: RuntimeWarning: coroutine 'IcechunkStore.set_virtual_ref' was never awaited\n",
      "  store.set_virtual_ref(\n",
      "RuntimeWarning: Enable tracemalloc to get the object allocation traceback\n",
      "/Users/aimeebarciauskas/github/virtualizarr/virtualizarr/writers/icechunk.py:272: RuntimeWarning: coroutine 'IcechunkStore.set_virtual_ref' was never awaited\n",
      "  store.set_virtual_ref(\n",
      "RuntimeWarning: Enable tracemalloc to get the object allocation traceback\n",
      "/Users/aimeebarciauskas/github/virtualizarr/virtualizarr/writers/icechunk.py:272: RuntimeWarning: coroutine 'IcechunkStore.set_virtual_ref' was never awaited\n",
      "  store.set_virtual_ref(\n",
      "RuntimeWarning: Enable tracemalloc to get the object allocation traceback\n"
     ]
    }
   ],
   "source": [
    "virtual_ds.virtualize.to_icechunk(store)"
   ]
  },
  {
   "cell_type": "code",
   "execution_count": 16,
   "id": "cae7e34f-d6dd-42aa-9e7a-f0d5420ba0b9",
   "metadata": {},
   "outputs": [
    {
     "data": {
      "text/plain": [
       "'PZMXKYCPJQRRFXV33Q7G'"
      ]
     },
     "execution_count": 16,
     "metadata": {},
     "output_type": "execute_result"
    }
   ],
   "source": [
    "await store.commit(\"first 2 days of 202408 data\")"
   ]
  },
  {
   "cell_type": "code",
   "execution_count": 17,
   "id": "9387e1ff-46c1-45fd-9796-0457538209a7",
   "metadata": {},
   "outputs": [
    {
     "ename": "KeyNotFound",
     "evalue": "time/c/0",
     "output_type": "error",
     "traceback": [
      "\u001b[0;31m---------------------------------------------------------------------------\u001b[0m",
      "\u001b[0;31mKeyNotFound\u001b[0m                               Traceback (most recent call last)",
      "Cell \u001b[0;32mIn[17], line 1\u001b[0m\n\u001b[0;32m----> 1\u001b[0m \u001b[38;5;28;01mawait\u001b[39;00m store\u001b[38;5;241m.\u001b[39m_store\u001b[38;5;241m.\u001b[39mget(\u001b[38;5;124m\"\u001b[39m\u001b[38;5;124mtime/c/0\u001b[39m\u001b[38;5;124m\"\u001b[39m)\n",
      "\u001b[0;31mKeyNotFound\u001b[0m: time/c/0"
     ]
    }
   ],
   "source": [
    "await store._store.get(\"time/c/0\")"
   ]
  },
  {
   "cell_type": "code",
   "execution_count": null,
   "id": "b6271bd1-bc0b-4901-9901-91aabe508cf7",
   "metadata": {},
   "outputs": [],
   "source": [
    "ds = xr.open_zarr(store, consolidated=False, zarr_format=3)\n",
    "ds"
   ]
  },
  {
   "cell_type": "markdown",
   "id": "23dd5a13-9c0e-4132-9073-474c0af65920",
   "metadata": {},
   "source": [
    "## Append"
   ]
  },
  {
   "cell_type": "code",
   "execution_count": null,
   "id": "190c25f9-e000-4b17-83eb-cf551141dfea",
   "metadata": {},
   "outputs": [],
   "source": [
    "virtual_datasets_a = [\n",
    "    open_virtual_dataset(\n",
    "        url, indexes={}, reader_options={\"storage_options\": {\"anon\": True}}\n",
    "    )\n",
    "    for url in oisst_files[2:4]\n",
    "]"
   ]
  },
  {
   "cell_type": "code",
   "execution_count": null,
   "id": "af330082-207a-4f08-aefe-fc15aa8b2eb3",
   "metadata": {},
   "outputs": [],
   "source": [
    "virtual_ds_a = xr.concat(\n",
    "    virtual_datasets_a,\n",
    "    dim=\"time\",\n",
    "    coords=\"minimal\",\n",
    "    compat=\"override\",\n",
    "    combine_attrs=\"override\",\n",
    ")"
   ]
  },
  {
   "cell_type": "code",
   "execution_count": null,
   "id": "103b44d2-124a-4de5-8074-e997fd5a1698",
   "metadata": {},
   "outputs": [],
   "source": [
    "virtual_ds_a"
   ]
  },
  {
   "cell_type": "code",
   "execution_count": null,
   "id": "b6137cc1-b996-4e60-8c12-01eb19930da6",
   "metadata": {},
   "outputs": [],
   "source": [
    "append_store = IcechunkStore.open_existing(\n",
    "    storage=storage_config, config=virtual_ref_store_config, read_only=False\n",
    ")"
   ]
  },
  {
   "cell_type": "code",
   "execution_count": null,
   "id": "951f9904-d8b7-4d35-9967-dfeb2866151e",
   "metadata": {},
   "outputs": [],
   "source": [
    "await append_store._store.get(\"time/c/0\")"
   ]
  },
  {
   "cell_type": "code",
   "execution_count": null,
   "id": "a465be46-bb81-4e36-b1b6-67c3b8e4b9ec",
   "metadata": {},
   "outputs": [],
   "source": [
    "virtual_ds_a.virtualize.to_icechunk(append_store, append_dim=\"time\")"
   ]
  },
  {
   "cell_type": "code",
   "execution_count": null,
   "id": "e9908d2f-664b-4256-b9d4-842df2e512c3",
   "metadata": {},
   "outputs": [],
   "source": [
    "append_store.commit(\"wrote 2 more days of data\")"
   ]
  },
  {
   "cell_type": "code",
   "execution_count": null,
   "id": "477094aa-2094-46e2-ae78-516fc2a51690",
   "metadata": {},
   "outputs": [],
   "source": [
    "read_store = IcechunkStore.open_existing(\n",
    "    storage=storage_config, config=virtual_ref_store_config, read_only=True\n",
    ")"
   ]
  },
  {
   "cell_type": "code",
   "execution_count": null,
   "id": "0ba50f95-b3dd-4893-aa0a-c59985756dad",
   "metadata": {},
   "outputs": [],
   "source": [
    "await read_store._store.get(\"time/c/0\")"
   ]
  },
  {
   "cell_type": "code",
   "execution_count": null,
   "id": "47a53027-dbae-48aa-85d2-dcbc04e01e61",
   "metadata": {},
   "outputs": [],
   "source": [
    "ds = xr.open_zarr(read_store, consolidated=False, zarr_format=3)\n",
    "ds"
   ]
  }
 ],
 "metadata": {
  "kernelspec": {
   "display_name": "virtualizarr",
   "language": "python",
   "name": "virtualizarr"
  },
  "language_info": {
   "codemirror_mode": {
    "name": "ipython",
    "version": 3
   },
   "file_extension": ".py",
   "mimetype": "text/x-python",
   "name": "python",
   "nbconvert_exporter": "python",
   "pygments_lexer": "ipython3",
   "version": "3.11.10"
  }
 },
 "nbformat": 4,
 "nbformat_minor": 5
}
