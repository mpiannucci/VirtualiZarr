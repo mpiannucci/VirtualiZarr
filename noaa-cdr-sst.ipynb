{
 "cells": [
  {
   "cell_type": "code",
   "execution_count": 1,
   "id": "d09bbff3-4e96-4490-b837-14b78b64df35",
   "metadata": {},
   "outputs": [],
   "source": [
    "# !pip install -e \".[icechunk]\"\n",
    "# !pip install git+https://github.com/mpiannucci/kerchunk@v3\n",
    "# !pip install fsspec s3fs"
   ]
  },
  {
   "cell_type": "code",
   "execution_count": 2,
   "id": "3055eff4-9e22-4a95-a7fd-96933f381183",
   "metadata": {},
   "outputs": [
    {
     "name": "stdout",
     "output_type": "stream",
     "text": [
      "Name: icechunk\n",
      "Version: 0.1.0a7\n",
      "Summary: Transactional storage engine for Zarr designed for use on cloud object storage\n",
      "Home-page: https://github.com/earth-mover/icechunk\n",
      "Author: Earthmover PBC\n",
      "Author-email: \n",
      "License: Apache-2.0\n",
      "Location: /Users/aimeebarciauskas/github/virtualizarr/venv/lib/python3.12/site-packages\n",
      "Requires: zarr\n",
      "Required-by: \n"
     ]
    }
   ],
   "source": [
    "!pip show icechunk"
   ]
  },
  {
   "cell_type": "code",
   "execution_count": 3,
   "id": "2f69f0bb-316b-452c-b1ba-4d7ef4afcf67",
   "metadata": {},
   "outputs": [],
   "source": [
    "import warnings\n",
    "\n",
    "import fsspec\n",
    "import xarray as xr\n",
    "from icechunk import IcechunkStore, StorageConfig, StoreConfig, VirtualRefConfig\n",
    "\n",
    "from virtualizarr import open_virtual_dataset\n",
    "\n",
    "warnings.filterwarnings(\"ignore\", category=UserWarning)"
   ]
  },
  {
   "cell_type": "code",
   "execution_count": 4,
   "id": "1532c33b-804f-49fa-9fa9-0eb42ea87e26",
   "metadata": {},
   "outputs": [],
   "source": [
    "fs = fsspec.filesystem(\"s3\", anon=True)\n",
    "\n",
    "oisst_files = fs.glob(\n",
    "    \"s3://noaa-cdr-sea-surface-temp-optimum-interpolation-pds/data/v2.1/avhrr/202408/oisst-avhrr-v02r01.*.nc\"\n",
    ")\n",
    "\n",
    "oisst_files = sorted([\"s3://\" + f for f in oisst_files])"
   ]
  },
  {
   "cell_type": "code",
   "execution_count": 5,
   "id": "06bbec92-3974-4859-8bda-353afc7800b9",
   "metadata": {},
   "outputs": [],
   "source": [
    "so = dict(anon=True, default_fill_cache=False, default_cache_type=\"none\")\n",
    "\n",
    "virtual_datasets = [\n",
    "    open_virtual_dataset(url, indexes={}, reader_options={\"storage_options\": so})\n",
    "    for url in oisst_files[0:2]\n",
    "]"
   ]
  },
  {
   "cell_type": "code",
   "execution_count": 6,
   "id": "77fb94c8-870f-4c9e-8421-ac9c17402122",
   "metadata": {},
   "outputs": [],
   "source": [
    "virtual_ds = xr.concat(\n",
    "    virtual_datasets,\n",
    "    dim=\"time\",\n",
    "    coords=\"minimal\",\n",
    "    compat=\"override\",\n",
    "    combine_attrs=\"override\",\n",
    ")"
   ]
  },
  {
   "cell_type": "code",
   "execution_count": 7,
   "id": "abefd6fa-386a-4e07-a7c8-219d3730eeeb",
   "metadata": {},
   "outputs": [],
   "source": [
    "!rm -rf ./noaa-cdr-icechunk/"
   ]
  },
  {
   "cell_type": "code",
   "execution_count": 8,
   "id": "79a4228a-0e17-4b07-9144-f24fe06db832",
   "metadata": {},
   "outputs": [],
   "source": [
    "storage_config = StorageConfig.filesystem(\"./noaa-cdr-icechunk\")\n",
    "virtual_ref_store_config = StoreConfig(\n",
    "    virtual_ref_config=VirtualRefConfig.s3_anonymous(region=\"us-east-1\"),\n",
    ")"
   ]
  },
  {
   "cell_type": "code",
   "execution_count": 9,
   "id": "5fd0c082-8d5e-46a8-a994-fee80baa4ecc",
   "metadata": {},
   "outputs": [],
   "source": [
    "store = IcechunkStore.create(\n",
    "    storage=storage_config, config=virtual_ref_store_config, read_only=False\n",
    ")"
   ]
  },
  {
   "cell_type": "code",
   "execution_count": 11,
   "id": "53a74fb9-006b-4d2b-9157-7090af6c9e09",
   "metadata": {},
   "outputs": [
    {
     "data": {
      "text/plain": [
       "<coroutine object IcechunkStore.create at 0x1521a39a0>"
      ]
     },
     "execution_count": 11,
     "metadata": {},
     "output_type": "execute_result"
    }
   ],
   "source": [
    "store"
   ]
  },
  {
   "cell_type": "code",
   "execution_count": 10,
   "id": "55ebbc5f-add2-4de8-81f6-5aaf64d9e2b6",
   "metadata": {},
   "outputs": [
    {
     "ename": "TypeError",
     "evalue": "expected type IcechunkStore, but got type <class 'coroutine'>",
     "output_type": "error",
     "traceback": [
      "\u001b[0;31m---------------------------------------------------------------------------\u001b[0m",
      "\u001b[0;31mTypeError\u001b[0m                                 Traceback (most recent call last)",
      "Cell \u001b[0;32mIn[10], line 1\u001b[0m\n\u001b[0;32m----> 1\u001b[0m \u001b[43mvirtual_ds\u001b[49m\u001b[38;5;241;43m.\u001b[39;49m\u001b[43mvirtualize\u001b[49m\u001b[38;5;241;43m.\u001b[39;49m\u001b[43mto_icechunk\u001b[49m\u001b[43m(\u001b[49m\u001b[43mstore\u001b[49m\u001b[43m)\u001b[49m\n",
      "File \u001b[0;32m~/github/virtualizarr/virtualizarr/accessor.py:58\u001b[0m, in \u001b[0;36mVirtualiZarrDatasetAccessor.to_icechunk\u001b[0;34m(self, store, append_dim)\u001b[0m\n\u001b[1;32m     44\u001b[0m \u001b[38;5;250m\u001b[39m\u001b[38;5;124;03m\"\"\"\u001b[39;00m\n\u001b[1;32m     45\u001b[0m \u001b[38;5;124;03mWrite an xarray dataset to an Icechunk store.\u001b[39;00m\n\u001b[1;32m     46\u001b[0m \n\u001b[0;32m   (...)\u001b[0m\n\u001b[1;32m     54\u001b[0m \u001b[38;5;124;03mappend_dim: str, optional\u001b[39;00m\n\u001b[1;32m     55\u001b[0m \u001b[38;5;124;03m\"\"\"\u001b[39;00m\n\u001b[1;32m     56\u001b[0m \u001b[38;5;28;01mfrom\u001b[39;00m \u001b[38;5;21;01mvirtualizarr\u001b[39;00m\u001b[38;5;21;01m.\u001b[39;00m\u001b[38;5;21;01mwriters\u001b[39;00m\u001b[38;5;21;01m.\u001b[39;00m\u001b[38;5;21;01micechunk\u001b[39;00m \u001b[38;5;28;01mimport\u001b[39;00m dataset_to_icechunk\n\u001b[0;32m---> 58\u001b[0m \u001b[43mdataset_to_icechunk\u001b[49m\u001b[43m(\u001b[49m\u001b[38;5;28;43mself\u001b[39;49m\u001b[38;5;241;43m.\u001b[39;49m\u001b[43mds\u001b[49m\u001b[43m,\u001b[49m\u001b[43m \u001b[49m\u001b[43mstore\u001b[49m\u001b[43m,\u001b[49m\u001b[43m \u001b[49m\u001b[43mappend_dim\u001b[49m\u001b[38;5;241;43m=\u001b[39;49m\u001b[43mappend_dim\u001b[49m\u001b[43m)\u001b[49m\n",
      "File \u001b[0;32m~/github/virtualizarr/virtualizarr/writers/icechunk.py:47\u001b[0m, in \u001b[0;36mdataset_to_icechunk\u001b[0;34m(ds, store, append_dim)\u001b[0m\n\u001b[1;32m     42\u001b[0m     \u001b[38;5;28;01mraise\u001b[39;00m \u001b[38;5;167;01mImportError\u001b[39;00m(\n\u001b[1;32m     43\u001b[0m         \u001b[38;5;124m\"\u001b[39m\u001b[38;5;124mThe \u001b[39m\u001b[38;5;124m'\u001b[39m\u001b[38;5;124micechunk\u001b[39m\u001b[38;5;124m'\u001b[39m\u001b[38;5;124m and \u001b[39m\u001b[38;5;124m'\u001b[39m\u001b[38;5;124mzarr\u001b[39m\u001b[38;5;124m'\u001b[39m\u001b[38;5;124m version 3 libraries are required to use this function\u001b[39m\u001b[38;5;124m\"\u001b[39m\n\u001b[1;32m     44\u001b[0m     )\n\u001b[1;32m     46\u001b[0m \u001b[38;5;28;01mif\u001b[39;00m \u001b[38;5;129;01mnot\u001b[39;00m \u001b[38;5;28misinstance\u001b[39m(store, IcechunkStore):\n\u001b[0;32m---> 47\u001b[0m     \u001b[38;5;28;01mraise\u001b[39;00m \u001b[38;5;167;01mTypeError\u001b[39;00m(\u001b[38;5;124mf\u001b[39m\u001b[38;5;124m\"\u001b[39m\u001b[38;5;124mexpected type IcechunkStore, but got type \u001b[39m\u001b[38;5;132;01m{\u001b[39;00m\u001b[38;5;28mtype\u001b[39m(store)\u001b[38;5;132;01m}\u001b[39;00m\u001b[38;5;124m\"\u001b[39m)\n\u001b[1;32m     49\u001b[0m \u001b[38;5;28;01mif\u001b[39;00m \u001b[38;5;129;01mnot\u001b[39;00m store\u001b[38;5;241m.\u001b[39msupports_writes:\n\u001b[1;32m     50\u001b[0m     \u001b[38;5;28;01mraise\u001b[39;00m \u001b[38;5;167;01mValueError\u001b[39;00m(\u001b[38;5;124m\"\u001b[39m\u001b[38;5;124msupplied store does not support writes\u001b[39m\u001b[38;5;124m\"\u001b[39m)\n",
      "\u001b[0;31mTypeError\u001b[0m: expected type IcechunkStore, but got type <class 'coroutine'>"
     ]
    }
   ],
   "source": [
    "virtual_ds.virtualize.to_icechunk(store)"
   ]
  },
  {
   "cell_type": "code",
   "execution_count": null,
   "id": "cae7e34f-d6dd-42aa-9e7a-f0d5420ba0b9",
   "metadata": {},
   "outputs": [],
   "source": [
    "store.commit(\"first 2 days of 202408 data\")"
   ]
  },
  {
   "cell_type": "code",
   "execution_count": null,
   "id": "9387e1ff-46c1-45fd-9796-0457538209a7",
   "metadata": {},
   "outputs": [],
   "source": [
    "await store._store.get(\"time/c/0\")"
   ]
  },
  {
   "cell_type": "code",
   "execution_count": null,
   "id": "b6271bd1-bc0b-4901-9901-91aabe508cf7",
   "metadata": {},
   "outputs": [],
   "source": [
    "ds = xr.open_zarr(store, consolidated=False, zarr_format=3)\n",
    "ds"
   ]
  },
  {
   "cell_type": "markdown",
   "id": "23dd5a13-9c0e-4132-9073-474c0af65920",
   "metadata": {},
   "source": [
    "## Append"
   ]
  },
  {
   "cell_type": "code",
   "execution_count": null,
   "id": "190c25f9-e000-4b17-83eb-cf551141dfea",
   "metadata": {},
   "outputs": [],
   "source": [
    "virtual_datasets_a = [\n",
    "    open_virtual_dataset(\n",
    "        url, indexes={}, reader_options={\"storage_options\": {\"anon\": True}}\n",
    "    )\n",
    "    for url in oisst_files[2:4]\n",
    "]"
   ]
  },
  {
   "cell_type": "code",
   "execution_count": null,
   "id": "af330082-207a-4f08-aefe-fc15aa8b2eb3",
   "metadata": {},
   "outputs": [],
   "source": [
    "virtual_ds_a = xr.concat(\n",
    "    virtual_datasets_a,\n",
    "    dim=\"time\",\n",
    "    coords=\"minimal\",\n",
    "    compat=\"override\",\n",
    "    combine_attrs=\"override\",\n",
    ")"
   ]
  },
  {
   "cell_type": "code",
   "execution_count": null,
   "id": "103b44d2-124a-4de5-8074-e997fd5a1698",
   "metadata": {},
   "outputs": [],
   "source": [
    "virtual_ds_a"
   ]
  },
  {
   "cell_type": "code",
   "execution_count": null,
   "id": "b6137cc1-b996-4e60-8c12-01eb19930da6",
   "metadata": {},
   "outputs": [],
   "source": [
    "append_store = IcechunkStore.open_existing(\n",
    "    storage=storage_config, config=virtual_ref_store_config, read_only=False\n",
    ")"
   ]
  },
  {
   "cell_type": "code",
   "execution_count": null,
   "id": "951f9904-d8b7-4d35-9967-dfeb2866151e",
   "metadata": {},
   "outputs": [],
   "source": [
    "await append_store._store.get(\"time/c/0\")"
   ]
  },
  {
   "cell_type": "code",
   "execution_count": null,
   "id": "a465be46-bb81-4e36-b1b6-67c3b8e4b9ec",
   "metadata": {},
   "outputs": [],
   "source": [
    "virtual_ds_a.virtualize.to_icechunk(append_store, append_dim=\"time\")"
   ]
  },
  {
   "cell_type": "code",
   "execution_count": null,
   "id": "e9908d2f-664b-4256-b9d4-842df2e512c3",
   "metadata": {},
   "outputs": [],
   "source": [
    "append_store.commit(\"wrote 2 more days of data\")"
   ]
  },
  {
   "cell_type": "code",
   "execution_count": null,
   "id": "477094aa-2094-46e2-ae78-516fc2a51690",
   "metadata": {},
   "outputs": [],
   "source": [
    "read_store = IcechunkStore.open_existing(\n",
    "    storage=storage_config, config=virtual_ref_store_config, read_only=True\n",
    ")"
   ]
  },
  {
   "cell_type": "code",
   "execution_count": null,
   "id": "0ba50f95-b3dd-4893-aa0a-c59985756dad",
   "metadata": {},
   "outputs": [],
   "source": [
    "await read_store._store.get(\"time/c/0\")"
   ]
  },
  {
   "cell_type": "code",
   "execution_count": null,
   "id": "47a53027-dbae-48aa-85d2-dcbc04e01e61",
   "metadata": {},
   "outputs": [],
   "source": [
    "ds = xr.open_zarr(read_store, consolidated=False, zarr_format=3)\n",
    "ds"
   ]
  },
  {
   "cell_type": "code",
   "execution_count": null,
   "id": "41808f96",
   "metadata": {},
   "outputs": [],
   "source": []
  }
 ],
 "metadata": {
  "kernelspec": {
   "display_name": "virtualizarr",
   "language": "python",
   "name": "virtualizarr"
  },
  "language_info": {
   "codemirror_mode": {
    "name": "ipython",
    "version": 3
   },
   "file_extension": ".py",
   "mimetype": "text/x-python",
   "name": "python",
   "nbconvert_exporter": "python",
   "pygments_lexer": "ipython3",
   "version": "3.11.10"
  }
 },
 "nbformat": 4,
 "nbformat_minor": 5
}
